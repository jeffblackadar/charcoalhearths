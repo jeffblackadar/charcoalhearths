{
  "nbformat": 4,
  "nbformat_minor": 0,
  "metadata": {
    "colab": {
      "name": "save_webpage_as_a_screenshot.ipynb",
      "provenance": [],
      "authorship_tag": "ABX9TyMnJK/ZhnvCRcOaxJTFyP53",
      "include_colab_link": true
    },
    "kernelspec": {
      "name": "python3",
      "display_name": "Python 3"
    },
    "language_info": {
      "name": "python"
    }
  },
  "cells": [
    {
      "cell_type": "markdown",
      "metadata": {
        "id": "view-in-github",
        "colab_type": "text"
      },
      "source": [
        "<a href=\"https://colab.research.google.com/github/jeffblackadar/charcoalhearths/blob/master/save_webpage_as_a_screenshot.ipynb\" target=\"_parent\"><img src=\"https://colab.research.google.com/assets/colab-badge.svg\" alt=\"Open In Colab\"/></a>"
      ]
    },
    {
      "cell_type": "markdown",
      "metadata": {
        "id": "l4hO2ymL9dUn"
      },
      "source": [
        "# Saves a URL as a screenshot"
      ]
    },
    {
      "cell_type": "code",
      "metadata": {
        "id": "oaH-R_dEmrPD"
      },
      "source": [
        "!pip install selenium\n",
        "!apt-get update # to update ubuntu to correctly run apt install\n",
        "!apt install chromium-chromedriver\n",
        "!cp /usr/lib/chromium-browser/chromedriver /usr/bin\n"
      ],
      "execution_count": null,
      "outputs": []
    },
    {
      "cell_type": "code",
      "metadata": {
        "colab": {
          "base_uri": "https://localhost:8080/"
        },
        "id": "4oL9UaSHm0aD",
        "outputId": "deb7b065-3095-457d-c442-f77b099bea03"
      },
      "source": [
        "import sys\n",
        "sys.path.insert(0,'/usr/lib/chromium-browser/chromedriver')\n",
        "from selenium import webdriver\n",
        "chrome_options = webdriver.ChromeOptions()\n",
        "chrome_options.add_argument('--headless')\n",
        "chrome_options.add_argument('--no-sandbox')\n",
        "chrome_options.add_argument('--disable-dev-shm-usage')\n",
        "wd = webdriver.Chrome('chromedriver',options=chrome_options)\n",
        "#wd.get(\"https://jeffblackadar.ca/rch/rch-lidar.html\")\n",
        "wd.get(\"https://jeffblackadar.ca/rch/rch_mask_rcnn.html\")\n",
        "\n",
        "destination=\"screenshot_filename.png\"\n",
        "#Adjust the size of the graphic as needed\n",
        "wd.set_window_size(1024,6016)\n",
        "#wd.set_window_size(1024,1600)\n",
        "if wd.save_screenshot(destination):\n",
        "    print (\"File saved as: \"+destination)\n",
        "wd.quit()"
      ],
      "execution_count": 6,
      "outputs": [
        {
          "output_type": "stream",
          "text": [
            "File saved as: screenshot_filename.png\n"
          ],
          "name": "stdout"
        }
      ]
    }
  ]
}