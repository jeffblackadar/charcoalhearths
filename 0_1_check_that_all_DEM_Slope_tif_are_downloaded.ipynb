{
 "cells": [
  {
   "cell_type": "markdown",
   "metadata": {},
   "source": [
    "# Check that all DEM Slope.tif files are downloaded\n",
    "\n",
    "Before processing the DEM_Slope.tif files and splitting them into 1024x768 tifs and jpgs, this program checks that all of the files are downloaded.\n",
    "It opens an Excel file listing all PA State game lands and cross references the downloaded files. It also generates a list of statements used to call the program to split the DEM_Slope.tif files into smaller tifs and jpgs.\n",
    "DEM_Slope.tif files represent a PA State Game Land area and have an area number.\n",
    "Each tif is either a PAN or PAS depending on the coordinate reference system (CRS) used for it. PAN is CRS 32128. PAS is 32129. Some Game Land areas have both PAN and PAS CRS .tifs, such as area 58. The type of CRS for an area is noted in the data_sheet.csv this program creates.\n",
    "\n",
    "25 July 2020\n",
    "Files not downloaded yet:\n",
    "Area:  319  Row:  291\n",
    "\n",
    "Areas with both PAN and PAS:  33,58,60,84,95,105,108,120,132,137,151,158,168,193,201,212,217,233,257,258,278,284,317,329\n",
    "\n",
    "Problem files:\n",
    "254, 264, 290 and 258 PAS only, don't look right and fail to load.   (They all seem to be 2gb files)"
   ]
  },
  {
   "cell_type": "code",
   "execution_count": null,
   "metadata": {},
   "outputs": [],
   "source": [
    "#%%pycodestyle\n",
    "import pandas as pd\n",
    "import os\n",
    "\n",
    "df = pd.read_excel(r'List of State Game Lands.xlsx')\n",
    "\n",
    "# add the additional fields\n",
    "df['File'] = \"\"\n",
    "df['PAN'] = \"\"\n",
    "df['PAS'] = \"\"\n",
    "df['Both'] = \"\"\n",
    "\n",
    "print(\"# ------------------------------------\")\n",
    "print(\"# Split statements for 0_split_tifs_refactored \")\n",
    "\n",
    "prevarea = \"\"\n",
    "areas_with_both_pan_and_pas = \"\"\n",
    "data_sheet = \"Area,File,PAN,PAS,Both\\n\"\n",
    "for cn in range(1, 5):\n",
    "    directory = \"/storage/images/part_\"+str(cn)+\"/\"\n",
    "    for filename in sorted(os.listdir(directory)):\n",
    "        # /storage/images/part_1/41blast2demPAS_Slope_DEM.tif\",32129)\n",
    "        # PAN = 32128 PAS = 32129\n",
    "        panpas = filename[-17:-14]\n",
    "        crs = \"\"\n",
    "        if(panpas == \"PAN\"):\n",
    "            crs = \"32128\"\n",
    "            panpas_data = \"Y,N,N\\n\"\n",
    "            pan_data = \"Y\"\n",
    "            pas_data = \"N\"\n",
    "        else:\n",
    "            if(panpas == \"PAS\"):\n",
    "                crs = \"32129\"\n",
    "                panpas_data = \"N,Y,N\\n\"\n",
    "                pan_data = \"N\"\n",
    "                pas_data = \"Y\"\n",
    "            else:\n",
    "                crs = \"\"\n",
    "                panpas_data = \"N,N,N\\n\"\n",
    "                pan_data = \"N\"\n",
    "                pas_data = \"N\"\n",
    "\n",
    "        area = filename[:3]\n",
    "        if(area[-1:] == \"b\"):\n",
    "            area = area[:-1]\n",
    "        area_index = df.index[df['State Game Lands'] == int(area)].tolist()\n",
    "        df.at[area_index, 'File'] = filename\n",
    "\n",
    "        if(area == prevarea):\n",
    "            duplicate = \"\"\n",
    "            areas_with_both_pan_and_pas = \\\n",
    "                areas_with_both_pan_and_pas + \",\" + area\n",
    "            data_sheet = data_sheet[:-6] + \"Y,Y,Y\\n\"\n",
    "            df.at[area_index, 'PAN'] = \"Y\"\n",
    "            df.at[area_index, 'PAS'] = \"Y\"\n",
    "            df.at[area_index, 'Both'] = \"Y\"\n",
    "\n",
    "        else:\n",
    "            duplicate = \"\"\n",
    "            data_sheet = data_sheet + area + \",\" + filename + \",\" + panpas_data\n",
    "            df.at[area_index, 'PAN'] = pan_data\n",
    "            df.at[area_index, 'PAS'] = pas_data\n",
    "            df.at[area_index, 'Both'] = \"N\"\n",
    "        prevarea = area\n",
    "        print(duplicate +\n",
    "              'split(\"' + os.path.join(directory, filename) +\n",
    "              '\",' + crs + \")\")\n",
    "\n",
    "print(\"------------------------------------\")\n",
    "print(\"Areas with both PAN and PAS \", areas_with_both_pan_and_pas)\n",
    "print(\"\")\n",
    "\n",
    "print(\"------------------------------------\")\n",
    "print(\"data_sheet.csv\")\n",
    "print(data_sheet)\n",
    "data_sheet_file = open(\"data_sheet.csv\", \"w\")\n",
    "data_sheet_file.write(data_sheet)\n",
    "data_sheet_file.close()\n",
    "\n",
    "print(\"------------------------------------\")\n",
    "df.to_excel(\"List of State Game Lands_additional.xlsx\")\n",
    "print(df)\n",
    "\n",
    "print(\"------------------------------------\")\n",
    "print(\"Files not downloaded yet:\")\n",
    "for cn in range(1, len(df)):\n",
    "    if(df.at[cn, 'File'] == \"\"):\n",
    "        print(\"Area: \", df.at[cn, 'State Game Lands'], \" Row: \", cn)"
   ]
  },
  {
   "cell_type": "code",
   "execution_count": 5,
   "metadata": {},
   "outputs": [
    {
     "name": "stdout",
     "output_type": "stream",
     "text": [
      "Collecting pycodestyle\n",
      "  Downloading pycodestyle-2.6.0-py2.py3-none-any.whl (41 kB)\n",
      "\u001b[K     |████████████████████████████████| 41 kB 386 kB/s eta 0:00:011\n",
      "\u001b[?25hCollecting pycodestyle_magic\n",
      "  Downloading pycodestyle_magic-0.5-py2.py3-none-any.whl (9.5 kB)\n",
      "Installing collected packages: pycodestyle, pycodestyle-magic\n",
      "Successfully installed pycodestyle-2.6.0 pycodestyle-magic-0.5\n",
      "\u001b[33mWARNING: You are using pip version 20.0.2; however, version 20.1.1 is available.\n",
      "You should consider upgrading via the '/home/student/anaconda3/envs/notebook/bin/python -m pip install --upgrade pip' command.\u001b[0m\n"
     ]
    }
   ],
   "source": [
    "!pip install pycodestyle pycodestyle_magic"
   ]
  },
  {
   "cell_type": "code",
   "execution_count": 9,
   "metadata": {},
   "outputs": [
    {
     "name": "stdout",
     "output_type": "stream",
     "text": [
      "Collecting flake8\n",
      "  Downloading flake8-3.8.3-py2.py3-none-any.whl (72 kB)\n",
      "\u001b[K     |████████████████████████████████| 72 kB 1.1 MB/s eta 0:00:011\n",
      "\u001b[?25hCollecting mccabe<0.7.0,>=0.6.0\n",
      "  Downloading mccabe-0.6.1-py2.py3-none-any.whl (8.6 kB)\n",
      "Requirement already satisfied: pycodestyle<2.7.0,>=2.6.0a1 in /home/student/anaconda3/envs/notebook/lib/python3.8/site-packages (from flake8) (2.6.0)\n",
      "Collecting pyflakes<2.3.0,>=2.2.0\n",
      "  Downloading pyflakes-2.2.0-py2.py3-none-any.whl (66 kB)\n",
      "\u001b[K     |████████████████████████████████| 66 kB 5.6 MB/s  eta 0:00:01\n",
      "\u001b[?25hInstalling collected packages: mccabe, pyflakes, flake8\n",
      "Successfully installed flake8-3.8.3 mccabe-0.6.1 pyflakes-2.2.0\n",
      "\u001b[33mWARNING: You are using pip version 20.0.2; however, version 20.1.1 is available.\n",
      "You should consider upgrading via the '/home/student/anaconda3/envs/notebook/bin/python -m pip install --upgrade pip' command.\u001b[0m\n"
     ]
    }
   ],
   "source": [
    "!pip install flake8\n",
    "%load_ext pycodestyle_magic"
   ]
  }
 ],
 "metadata": {
  "kernelspec": {
   "display_name": "Python 3",
   "language": "python",
   "name": "python3"
  },
  "language_info": {
   "codemirror_mode": {
    "name": "ipython",
    "version": 3
   },
   "file_extension": ".py",
   "mimetype": "text/x-python",
   "name": "python",
   "nbconvert_exporter": "python",
   "pygments_lexer": "ipython3",
   "version": "3.8.1"
  }
 },
 "nbformat": 4,
 "nbformat_minor": 2
}
